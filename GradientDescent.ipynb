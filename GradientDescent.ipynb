{
 "cells": [
  {
   "cell_type": "code",
   "execution_count": 79,
   "id": "cbe6fc92",
   "metadata": {},
   "outputs": [],
   "source": [
    "import pandas as pd\n",
    "import numpy as np\n",
    "from sklearn.preprocessing import StandardScaler"
   ]
  },
  {
   "cell_type": "code",
   "execution_count": 80,
   "id": "0c6cc81d",
   "metadata": {},
   "outputs": [],
   "source": [
    "train = pd.read_csv('C:/Users/goelk/Downloads/train.csv')\n",
    "X_test = pd.read_csv('C:/Users/goelk/Downloads/test.csv', header = None)"
   ]
  },
  {
   "cell_type": "code",
   "execution_count": 81,
   "id": "42116158",
   "metadata": {},
   "outputs": [],
   "source": [
    "def step_gradient(N, m, c, learning_rate, num_of_iterations):\n",
    "    m_slope = np.zeros(13)\n",
    "    c_slope = 0\n",
    "    for i in range(N):\n",
    "        x = training.iloc[i,0:13]\n",
    "        for j in range(0,13):\n",
    "            m_slope[j] += (-2/N)*(training.iloc[i, 13] - sum(m*x) - c) * training.iloc[i, j]\n",
    "        c_slope += (-2/N)*(training.iloc[i, 13] - sum(m*x) - c)\n",
    "        \n",
    "    m_new = m - learning_rate * m_slope\n",
    "    c_new = c - learning_rate * c_slope\n",
    "    return m_new, c_new"
   ]
  },
  {
   "cell_type": "code",
   "execution_count": 82,
   "id": "9b522662",
   "metadata": {},
   "outputs": [],
   "source": [
    "def cost(N, training, m,c):\n",
    "    total_cost = 0\n",
    "    for i in range(N):\n",
    "        x = training.iloc[i,0:13]\n",
    "        total_cost += (1/N)*((training.iloc[i,13] - sum(m*x) - c)**2)\n",
    "    return total_cost"
   ]
  },
  {
   "cell_type": "code",
   "execution_count": 83,
   "id": "9cf6ca4e",
   "metadata": {},
   "outputs": [],
   "source": [
    "def gd(learning_rate, num_of_iterations):\n",
    "    N = len(training)\n",
    "    m = np.zeros(13)\n",
    "    c = 0\n",
    "    for i in range(num_of_iterations):\n",
    "        m, c = step_gradient(N, m, c, learning_rate, num_of_iterations)\n",
    "        total_cost = cost(N, training, m,c)\n",
    "        print(\"cost:\", total_cost)\n",
    "    return m, c"
   ]
  },
  {
   "cell_type": "code",
   "execution_count": 92,
   "id": "6922ace9",
   "metadata": {},
   "outputs": [],
   "source": [
    "def run():\n",
    "    learning_rate = 0.1    # this is alpha\n",
    "    num_of_iterations = 30\n",
    "    m, c = gd(learning_rate, num_of_iterations)\n",
    "    return m, c"
   ]
  },
  {
   "cell_type": "code",
   "execution_count": 93,
   "id": "f15d7d77",
   "metadata": {},
   "outputs": [
    {
     "name": "stdout",
     "output_type": "stream",
     "text": [
      "cost: 372.6402282491625\n",
      "cost: 246.0806844988687\n",
      "cost: 166.3146252952613\n",
      "cost: 115.5014638404627\n",
      "cost: 83.05871412434607\n",
      "cost: 62.30835093474387\n",
      "cost: 49.01041492738444\n",
      "cost: 40.468191320068215\n",
      "cost: 34.96435757451736\n",
      "cost: 31.404111930033935\n",
      "cost: 29.088839619508153\n",
      "cost: 27.572339144821743\n",
      "cost: 26.56937191761048\n",
      "cost: 25.897428428927455\n",
      "cost: 25.439610994540992\n",
      "cost: 25.120956642829363\n",
      "cost: 24.893322775748775\n",
      "cost: 24.725732793886753\n",
      "cost: 24.598205718073977\n",
      "cost: 24.497810335880732\n",
      "cost: 24.416140489513502\n",
      "cost: 24.347698718421228\n",
      "cost: 24.288860770386073\n",
      "cost: 24.237211732207697\n",
      "cost: 24.191120020119126\n",
      "cost: 24.149463690506025\n",
      "cost: 24.111454347094874\n",
      "cost: 24.076523621503284\n",
      "cost: 24.044249803514337\n",
      "cost: 24.01431025810416\n"
     ]
    }
   ],
   "source": [
    "X_train = train.iloc[:,0:13] \n",
    "scaler = StandardScaler()\n",
    "scaler.fit(X_train)\n",
    "X_train = scaler.transform(X_train)\n",
    "X_train = pd.DataFrame(X_train)\n",
    "training = X_train\n",
    "training['Y'] = train.iloc[:,13:]\n",
    "training\n",
    "m, c = run()"
   ]
  },
  {
   "cell_type": "code",
   "execution_count": 94,
   "id": "fbf878c9",
   "metadata": {},
   "outputs": [
    {
     "name": "stderr",
     "output_type": "stream",
     "text": [
      "C:\\Users\\goelk\\anaconda3\\lib\\site-packages\\sklearn\\base.py:450: UserWarning: X does not have valid feature names, but StandardScaler was fitted with feature names\n",
      "  warnings.warn(\n"
     ]
    },
    {
     "data": {
      "text/plain": [
       "(127, 13)"
      ]
     },
     "execution_count": 94,
     "metadata": {},
     "output_type": "execute_result"
    }
   ],
   "source": [
    "X_test = scaler.transform(X_test)\n",
    "X_test = pd.DataFrame(X_test)\n",
    "x = np.array(X_test)\n",
    "x.shape"
   ]
  },
  {
   "cell_type": "code",
   "execution_count": 97,
   "id": "ff1bf4d7",
   "metadata": {},
   "outputs": [],
   "source": [
    "Y_pred = []\n",
    "for i in x:\n",
    "    y = sum(m*i) + c\n",
    "    Y_pred.append(y)\n",
    "Y_pred = np.array(Y_pred)\n",
    "np.savetxt(X=Y_pred,fname='Prediction.csv',delimiter=',', fmt='%.5f')"
   ]
  },
  {
   "cell_type": "code",
   "execution_count": null,
   "id": "cc67319d",
   "metadata": {},
   "outputs": [],
   "source": []
  }
 ],
 "metadata": {
  "kernelspec": {
   "display_name": "Python 3 (ipykernel)",
   "language": "python",
   "name": "python3"
  },
  "language_info": {
   "codemirror_mode": {
    "name": "ipython",
    "version": 3
   },
   "file_extension": ".py",
   "mimetype": "text/x-python",
   "name": "python",
   "nbconvert_exporter": "python",
   "pygments_lexer": "ipython3",
   "version": "3.9.13"
  }
 },
 "nbformat": 4,
 "nbformat_minor": 5
}
